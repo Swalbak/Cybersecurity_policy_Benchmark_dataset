{
 "cells": [
  {
   "cell_type": "code",
   "execution_count": 3,
   "metadata": {},
   "outputs": [],
   "source": [
    "import torch\n",
    "import numpy as np\n",
    "import os\n",
    "import pandas as pd\n",
    "from sklearn.metrics import f1_score, accuracy_score, precision_score, recall_score"
   ]
  },
  {
   "cell_type": "markdown",
   "metadata": {},
   "source": [
    "# 저장된 prediction test"
   ]
  },
  {
   "cell_type": "code",
   "execution_count": 4,
   "metadata": {},
   "outputs": [],
   "source": [
    "model_name = 'bert-base-uncased'\n",
    "\n",
    "train_df = pd.read_pickle(os.path.join(f'{model_name}_dataset', 'train.pkl'))\n",
    "val_df = pd.read_pickle(os.path.join(f'{model_name}_dataset', 'val.pkl'))\n",
    "# test_df = pd.read_pickle(os.path.join(f'{model_name}_dataset', 'test.pkl'))\n",
    "\n",
    "train_true_label = train_df['label']\n",
    "val_true_label = val_df['label']\n",
    "# test_true_label = test_df['label']"
   ]
  },
  {
   "cell_type": "code",
   "execution_count": 5,
   "metadata": {},
   "outputs": [],
   "source": [
    "def label_acc(df, predict, label):\n",
    "    index = df.loc[df['label']==label].index\n",
    "    return (predict[index] == label).sum() / len(index)\n",
    "\n",
    "from collections import Counter\n",
    "\n",
    "def document_acc(df, predict):\n",
    "    is_correct = []\n",
    "    docs_index = df['docs_index'].drop_duplicates()\n",
    "    for i in docs_index:\n",
    "        index = df.loc[df['docs_index']==i].index\n",
    "        docs_label = df.loc[df['docs_index']==i]['label'].iloc[0]\n",
    "        predicted_label = Counter(predict[index]).most_common(1)[0][0]\n",
    "        is_correct.append(predicted_label==docs_label)\n",
    "    \n",
    "    return np.array(is_correct).sum() / len(is_correct)"
   ]
  },
  {
   "cell_type": "code",
   "execution_count": 5,
   "metadata": {},
   "outputs": [
    {
     "name": "stdout",
     "output_type": "stream",
     "text": [
      "0번째 점수\n",
      "0train f1: 0.2692649636770139\n",
      "0val f1: 0.12162456515965192\n",
      "0train acc: 0.29083102283883355\n",
      "0val acc: 0.2112343563043689\n",
      "\n",
      "1번째 점수\n",
      "1train f1: 0.8332731324034351\n",
      "1val f1: 0.9478280006304473\n",
      "1train acc: 0.8575189064977938\n",
      "1val acc: 0.9556317304271901\n",
      "\n",
      "2번째 점수\n",
      "2train f1: 0.9446358521658021\n",
      "2val f1: 0.9686612874636973\n",
      "2train acc: 0.9527040876873119\n",
      "2val acc: 0.9751641173236749\n",
      "\n",
      "3번째 점수\n",
      "3train f1: 0.9604778430950581\n",
      "3val f1: 0.9743916530696569\n",
      "3train acc: 0.9665131131800675\n",
      "3val acc: 0.979626814992077\n",
      "\n",
      "4번째 점수\n",
      "4train f1: 0.9715238744833451\n",
      "4val f1: 0.9705406627336955\n",
      "4train acc: 0.9764707151564843\n",
      "4val acc: 0.9764576528797335\n",
      "\n",
      "5번째 점수\n",
      "5train f1: 0.9844364237579004\n",
      "5val f1: 0.9737055194558649\n",
      "5train acc: 0.9871187684075389\n",
      "5val acc: 0.9785919865472302\n",
      "\n",
      "6번째 점수\n",
      "6train f1: 0.9884969691059466\n",
      "6val f1: 0.9690714968749287\n",
      "6train acc: 0.9903660470585697\n",
      "6val acc: 0.9752934708792808\n",
      "\n",
      "7번째 점수\n",
      "7train f1: 0.9898479882421728\n",
      "7val f1: 0.9707131755862329\n",
      "7train acc: 0.9917577379090114\n",
      "7val acc: 0.9794651230475697\n",
      "\n",
      "8번째 점수\n",
      "8train f1: 0.9952752466134758\n",
      "8val f1: 0.9784467275960745\n",
      "8train acc: 0.9961485764836611\n",
      "8val acc: 0.9836691136047602\n",
      "\n",
      "9번째 점수\n",
      "9train f1: 0.9963194558279312\n",
      "9val f1: 0.9641228679490238\n",
      "9train acc: 0.9970332171792908\n",
      "9val acc: 0.9753258092681822\n",
      "\n"
     ]
    }
   ],
   "source": [
    "train_f1 = []\n",
    "train_acc = {\n",
    "    'label0': [],\n",
    "    'label1': [],\n",
    "    'label2': [],\n",
    "    'whole': [],\n",
    "    'docs': []\n",
    "}\n",
    "val_f1 = []\n",
    "val_acc = {\n",
    "    'label0': [],\n",
    "    'label1': [],\n",
    "    'label2': [],\n",
    "    'whole': [],\n",
    "    'docs': []\n",
    "}\n",
    "\n",
    "for i in range(20):\n",
    "    valid_predict = torch.load(os.path.join(f'{model_name}_val_predictions', f'{i}valid.pkl'), map_location=torch.device('cpu'))\n",
    "    val_flatten_predictions = np.stack([torch.softmax(torch.Tensor(p), dim=0).cpu().detach().numpy() for batch in valid_predict for p in batch])\n",
    "\n",
    "    valid_predicts_label = np.argmax(val_flatten_predictions, axis=1)\n",
    "\n",
    "    val_f1.append(f1_score(val_true_label, valid_predicts_label, average='macro'))\n",
    "    val_acc['whole'].append(accuracy_score(val_true_label, valid_predicts_label))\n",
    "\n",
    "    val_acc['docs'].append(document_acc(val_df, valid_predicts_label))\n",
    "\n",
    "    print(f\"{i}번째 점수\")\n",
    "    print(f\"{i}train f1: {train_f1[i]}\")\n",
    "    print(f\"{i}val f1: {val_f1[i]}\")\n",
    "    print(f\"{i}train acc: {train_acc['whole'][i]}\")\n",
    "    print(f\"{i}val acc: {val_acc['whole'][i]}\")\n",
    "    print()"
   ]
  }
 ],
 "metadata": {
  "kernelspec": {
   "display_name": "Python 3",
   "language": "python",
   "name": "python3"
  },
  "language_info": {
   "codemirror_mode": {
    "name": "ipython",
    "version": 3
   },
   "file_extension": ".py",
   "mimetype": "text/x-python",
   "name": "python",
   "nbconvert_exporter": "python",
   "pygments_lexer": "ipython3",
   "version": "3.11.7"
  },
  "orig_nbformat": 4
 },
 "nbformat": 4,
 "nbformat_minor": 2
}
